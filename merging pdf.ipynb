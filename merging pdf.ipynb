{
 "cells": [
  {
   "cell_type": "code",
   "execution_count": 8,
   "id": "f02fa387",
   "metadata": {},
   "outputs": [],
   "source": [
    "import PyPDF2\n",
    "import os\n",
    "\n",
    "def merge_pdfs(input_files, output_path):\n",
    "    pdf_writer = PyPDF2.PdfWriter()\n",
    "\n",
    "    # Iterate over all input PDF files\n",
    "    for input_file in input_files:\n",
    "        with open(input_file, 'rb') as file:\n",
    "            pdf_reader = PyPDF2.PdfReader(file)\n",
    "            for page_num in range(len(pdf_reader.pages)):\n",
    "                pdf_writer.add_page(pdf_reader.pages[page_num])\n",
    "\n",
    "    # Write the merged PDF to the output file\n",
    "    with open(output_path, 'wb') as output_file:\n",
    "        pdf_writer.write(output_file)\n",
    "\n",
    "if __name__ == \"__main__\":\n",
    "    input_files = [\"Page 1.pdf\", \"Page 2.pdf\"]\n",
    "    output_pdf_path = \"merged.pdf\"  # You can specify the desired output file name\n",
    "\n",
    "    merge_pdfs(input_files, output_pdf_path)\n"
   ]
  },
  {
   "cell_type": "code",
   "execution_count": null,
   "id": "6315cc07",
   "metadata": {},
   "outputs": [],
   "source": []
  }
 ],
 "metadata": {
  "kernelspec": {
   "display_name": "Python 3 (ipykernel)",
   "language": "python",
   "name": "python3"
  },
  "language_info": {
   "codemirror_mode": {
    "name": "ipython",
    "version": 3
   },
   "file_extension": ".py",
   "mimetype": "text/x-python",
   "name": "python",
   "nbconvert_exporter": "python",
   "pygments_lexer": "ipython3",
   "version": "3.9.13"
  }
 },
 "nbformat": 4,
 "nbformat_minor": 5
}
